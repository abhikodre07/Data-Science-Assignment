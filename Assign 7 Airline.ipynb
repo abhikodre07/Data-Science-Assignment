#!/usr/bin/env python
# coding: utf-8

# In[1]:


import pandas as pd
import numpy as np
import matplotlib.pyplot as plt
import warnings 
warnings.filterwarnings('ignore')
import seaborn as sns
from sklearn.metrics import silhouette_score,classification_report
get_ipython().run_line_magic('matplotlib', 'inline')


# #### In this case, sheet_name='data' is used to specify that the data should be read from the sheet named "data" in the Excel file "EastWestAirlines.xlsx". If no sheet name is provided, by default the function reads the first sheet in the file.

# In[3]:


df = pd.read_excel(r"C:\Users\abhik\Downloads\EastWestAirlines.xlsx",sheet_name='data',index_col=0)    
df


# In[4]:


df.describe()


# In[5]:


df.info()


# In[6]:


df.isna().sum()


# In[7]:


sns.pairplot(data=df)


# In[8]:


df.rename(columns={'Award?':'Award'},inplace=True)


# In[9]:


x = df


# In[10]:


from sklearn.preprocessing import StandardScaler


# In[11]:


sc=StandardScaler()
x=sc.fit_transform(x)
x


# In[12]:


from scipy.cluster import hierarchy


# In[14]:


he=hierarchy.linkage(x,method='complete')
dedo=hierarchy.dendrogram(he)


# In[15]:


from sklearn.cluster import AgglomerativeClustering


# In[16]:


ag=AgglomerativeClustering(n_clusters=4)
y=ag.fit_predict(x)


# In[17]:


silhouette_score(x,y)


# In[18]:


df['cluster']=y


# In[19]:


df.head()


# In[21]:


x=pd.DataFrame(x)


# In[22]:


sns.pairplot(df,hue='cluster',palette='rainbow')


# In[23]:


df.groupby(by='cluster').mean()


# In[24]:


sns.scatterplot(df['Balance'],df['Bonus_miles'],hue=df['cluster'],palette='rainbow')


# In[25]:


from sklearn.model_selection import train_test_split
from sklearn.linear_model import LogisticRegression


# In[26]:


xtrain,xtest,ytrain,ytest=train_test_split(x,y,test_size=0.20,random_state=2)


# In[27]:


lg=LogisticRegression()
lg.fit(xtrain,ytrain)
ypred=lg.predict(xtest)


# In[28]:


print(classification_report(ytest,ypred))


# In[34]:


from sklearn.cluster import KMeans


# In[30]:


km=KMeans()
y=km.fit_predict(x)


# In[31]:


silhouette_score(x,y)


# In[37]:


wcss = []

for i in range(1,21):
    km=KMeans(n_clusters=i)
    km.fit_predict(x)
    wcss.append(km.inertia_)


# In[ ]:




